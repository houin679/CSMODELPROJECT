{
 "cells": [
  {
   "cell_type": "markdown",
   "metadata": {},
   "source": [
    "# CSMODEL Project - Case Study\n",
    "In this Notebook, we will be discussing and exploring the dataset about [Diabetes](https://www.kaggle.com/datasets/akshaydattatraykhare/diabetes-dataset/data) taken from the website Kaggle.\n",
    "\n",
    "This dataset, sourced from the National Institute of Diabetes and Digestive and Kidney Diseases, aims to predict the presence of diabetes in patients using specific diagnostic measurements found in the dataset. It's important to note that the dataset was carefully curated, with specific criteria in mind. All the individuals included are female, at least 21 years of age, and of Pima Indian heritage.\\\n",
    "\n",
    "**Members:**\n",
    "\n",
    "Argamosa, Daniel Cedric (S12)\n",
    "\n",
    "Donato, Adriel Joseph (S13)\n",
    "\n",
    "Srivastava, Naman (S13)"
   ]
  },
  {
   "cell_type": "markdown",
   "metadata": {},
   "source": [
    "## Dataset Collection Process and Implications\n",
    "The dataset was gathered from the Pima Indian population near Phoenix, Arizona, a community under continuous study by the National Institute of Diabetes and Digestive and Kidney Diseases since 1965 due to its high incidence of diabetes. This dataset exclusively focuses on female individuals of at least 21 years of age who are of Pima Indian heritage, adhering to specific selection criteria. Now, the study that used this dataset employed a longitudinal approach, conducting standardized examinations every two years, which included an oral glucose tolerance test to diagnose diabetes. Diagnosis followed World Health Organization Criteria, ensuring clinical confirmation of diabetes cases. The dataset's thorough validation process establishes it as a reliable resource for investigating the prediction of diabetes onset over time.\n",
    "\n",
    "Now, in terms of the possible implications this might have for the conclusions and insights there are a few. First, the dataset exclusively focuses on female individuals of Pima Indian heritage. Therefore, insights drawn from this dataset may not be generalizable to other populations. The findings would apply specifically to this demographic group. Second, the strict diagnostic criteria for diabetes diagnosis ensure that the individuals included in the dataset are accurately diagnosed cases, enhancing the reliability of the data for research purposes. Third, the dataset's age range restriction may limit its applicability to younger age groups. Lastly, the influence of Pima Indian heritage introduces genetic and cultural factors that may not be present to the same extent in other populations, further emphasizing the need for caution when extending conclusions beyond this specific demographic."
   ]
  },
  {
   "cell_type": "markdown",
   "metadata": {},
   "source": [
    "## The Dataset\n",
    "The dataset `diabetes` has **768 participating female individuals** (rows) and has several variables (columns) related to them, some of them are independent (several medical predictor variables) and only one target dependent variable (Outcome). \n",
    "\n",
    "If you view the `.csv` file in Excel, you can see that our dataset contains many observations across **9 variables**. The following are the descriptions of each variable in the dataset:\n",
    "\n",
    "- **`Pregnancies`**: To express the Number of pregnancies\n",
    "- **`Glucose`**: To express the Glucose level in blood\n",
    "- **`BloodPressure`**: To express the Blood pressure measurement (mm Hg)\n",
    "- **`SkinThickness`**: To express the thickness of the skin (mm)\n",
    "- **`Insulin`**: To express the Insulin level in blood (mu U/ml) \n",
    "- **`BMI`**: To express the Body mass index\n",
    "- **`DiabetesPedigreeFunction`**: To express the Diabetes percentage\n",
    "- **`Age`**: To express the age\n",
    "- **`Outcome`**: To express the final result 1 is Yes and 0 is No"
   ]
  },
  {
   "cell_type": "markdown",
   "metadata": {},
   "source": [
    "### **Imports:**"
   ]
  },
  {
   "cell_type": "code",
   "execution_count": 289,
   "metadata": {},
   "outputs": [],
   "source": [
    "import pandas as pd\n",
    "import numpy as np\n",
    "import matplotlib.pyplot as plt\n",
    "import seaborn as sns\n"
   ]
  },
  {
   "cell_type": "markdown",
   "metadata": {},
   "source": [
    "### **General Info:**"
   ]
  },
  {
   "cell_type": "code",
   "execution_count": 290,
   "metadata": {},
   "outputs": [
    {
     "name": "stdout",
     "output_type": "stream",
     "text": [
      "<class 'pandas.core.frame.DataFrame'>\n",
      "RangeIndex: 768 entries, 0 to 767\n",
      "Data columns (total 9 columns):\n",
      " #   Column                    Non-Null Count  Dtype  \n",
      "---  ------                    --------------  -----  \n",
      " 0   Pregnancies               768 non-null    int64  \n",
      " 1   Glucose                   768 non-null    int64  \n",
      " 2   BloodPressure             768 non-null    int64  \n",
      " 3   SkinThickness             768 non-null    int64  \n",
      " 4   Insulin                   768 non-null    int64  \n",
      " 5   BMI                       768 non-null    float64\n",
      " 6   DiabetesPedigreeFunction  768 non-null    float64\n",
      " 7   Age                       768 non-null    int64  \n",
      " 8   Outcome                   768 non-null    int64  \n",
      "dtypes: float64(2), int64(7)\n",
      "memory usage: 54.1 KB\n"
     ]
    }
   ],
   "source": [
    "df = pd.read_csv('diabetes.csv')\n",
    "df.info()"
   ]
  },
  {
   "cell_type": "code",
   "execution_count": 291,
   "metadata": {},
   "outputs": [
    {
     "data": {
      "text/html": [
       "<div>\n",
       "<style scoped>\n",
       "    .dataframe tbody tr th:only-of-type {\n",
       "        vertical-align: middle;\n",
       "    }\n",
       "\n",
       "    .dataframe tbody tr th {\n",
       "        vertical-align: top;\n",
       "    }\n",
       "\n",
       "    .dataframe thead th {\n",
       "        text-align: right;\n",
       "    }\n",
       "</style>\n",
       "<table border=\"1\" class=\"dataframe\">\n",
       "  <thead>\n",
       "    <tr style=\"text-align: right;\">\n",
       "      <th></th>\n",
       "      <th>Pregnancies</th>\n",
       "      <th>Glucose</th>\n",
       "      <th>BloodPressure</th>\n",
       "      <th>SkinThickness</th>\n",
       "      <th>Insulin</th>\n",
       "      <th>BMI</th>\n",
       "      <th>DiabetesPedigreeFunction</th>\n",
       "      <th>Age</th>\n",
       "      <th>Outcome</th>\n",
       "    </tr>\n",
       "  </thead>\n",
       "  <tbody>\n",
       "    <tr>\n",
       "      <th>0</th>\n",
       "      <td>6</td>\n",
       "      <td>148</td>\n",
       "      <td>72</td>\n",
       "      <td>35</td>\n",
       "      <td>0</td>\n",
       "      <td>33.6</td>\n",
       "      <td>0.627</td>\n",
       "      <td>50</td>\n",
       "      <td>1</td>\n",
       "    </tr>\n",
       "    <tr>\n",
       "      <th>1</th>\n",
       "      <td>1</td>\n",
       "      <td>85</td>\n",
       "      <td>66</td>\n",
       "      <td>29</td>\n",
       "      <td>0</td>\n",
       "      <td>26.6</td>\n",
       "      <td>0.351</td>\n",
       "      <td>31</td>\n",
       "      <td>0</td>\n",
       "    </tr>\n",
       "    <tr>\n",
       "      <th>2</th>\n",
       "      <td>8</td>\n",
       "      <td>183</td>\n",
       "      <td>64</td>\n",
       "      <td>0</td>\n",
       "      <td>0</td>\n",
       "      <td>23.3</td>\n",
       "      <td>0.672</td>\n",
       "      <td>32</td>\n",
       "      <td>1</td>\n",
       "    </tr>\n",
       "    <tr>\n",
       "      <th>3</th>\n",
       "      <td>1</td>\n",
       "      <td>89</td>\n",
       "      <td>66</td>\n",
       "      <td>23</td>\n",
       "      <td>94</td>\n",
       "      <td>28.1</td>\n",
       "      <td>0.167</td>\n",
       "      <td>21</td>\n",
       "      <td>0</td>\n",
       "    </tr>\n",
       "    <tr>\n",
       "      <th>4</th>\n",
       "      <td>0</td>\n",
       "      <td>137</td>\n",
       "      <td>40</td>\n",
       "      <td>35</td>\n",
       "      <td>168</td>\n",
       "      <td>43.1</td>\n",
       "      <td>2.288</td>\n",
       "      <td>33</td>\n",
       "      <td>1</td>\n",
       "    </tr>\n",
       "  </tbody>\n",
       "</table>\n",
       "</div>"
      ],
      "text/plain": [
       "   Pregnancies  Glucose  BloodPressure  SkinThickness  Insulin   BMI  \\\n",
       "0            6      148             72             35        0  33.6   \n",
       "1            1       85             66             29        0  26.6   \n",
       "2            8      183             64              0        0  23.3   \n",
       "3            1       89             66             23       94  28.1   \n",
       "4            0      137             40             35      168  43.1   \n",
       "\n",
       "   DiabetesPedigreeFunction  Age  Outcome  \n",
       "0                     0.627   50        1  \n",
       "1                     0.351   31        0  \n",
       "2                     0.672   32        1  \n",
       "3                     0.167   21        0  \n",
       "4                     2.288   33        1  "
      ]
     },
     "execution_count": 291,
     "metadata": {},
     "output_type": "execute_result"
    }
   ],
   "source": [
    "df.head()"
   ]
  },
  {
   "cell_type": "code",
   "execution_count": 292,
   "metadata": {},
   "outputs": [
    {
     "data": {
      "text/html": [
       "<div>\n",
       "<style scoped>\n",
       "    .dataframe tbody tr th:only-of-type {\n",
       "        vertical-align: middle;\n",
       "    }\n",
       "\n",
       "    .dataframe tbody tr th {\n",
       "        vertical-align: top;\n",
       "    }\n",
       "\n",
       "    .dataframe thead th {\n",
       "        text-align: right;\n",
       "    }\n",
       "</style>\n",
       "<table border=\"1\" class=\"dataframe\">\n",
       "  <thead>\n",
       "    <tr style=\"text-align: right;\">\n",
       "      <th></th>\n",
       "      <th>Pregnancies</th>\n",
       "      <th>Glucose</th>\n",
       "      <th>BloodPressure</th>\n",
       "      <th>SkinThickness</th>\n",
       "      <th>Insulin</th>\n",
       "      <th>BMI</th>\n",
       "      <th>DiabetesPedigreeFunction</th>\n",
       "      <th>Age</th>\n",
       "      <th>Outcome</th>\n",
       "    </tr>\n",
       "  </thead>\n",
       "  <tbody>\n",
       "    <tr>\n",
       "      <th>763</th>\n",
       "      <td>10</td>\n",
       "      <td>101</td>\n",
       "      <td>76</td>\n",
       "      <td>48</td>\n",
       "      <td>180</td>\n",
       "      <td>32.9</td>\n",
       "      <td>0.171</td>\n",
       "      <td>63</td>\n",
       "      <td>0</td>\n",
       "    </tr>\n",
       "    <tr>\n",
       "      <th>764</th>\n",
       "      <td>2</td>\n",
       "      <td>122</td>\n",
       "      <td>70</td>\n",
       "      <td>27</td>\n",
       "      <td>0</td>\n",
       "      <td>36.8</td>\n",
       "      <td>0.340</td>\n",
       "      <td>27</td>\n",
       "      <td>0</td>\n",
       "    </tr>\n",
       "    <tr>\n",
       "      <th>765</th>\n",
       "      <td>5</td>\n",
       "      <td>121</td>\n",
       "      <td>72</td>\n",
       "      <td>23</td>\n",
       "      <td>112</td>\n",
       "      <td>26.2</td>\n",
       "      <td>0.245</td>\n",
       "      <td>30</td>\n",
       "      <td>0</td>\n",
       "    </tr>\n",
       "    <tr>\n",
       "      <th>766</th>\n",
       "      <td>1</td>\n",
       "      <td>126</td>\n",
       "      <td>60</td>\n",
       "      <td>0</td>\n",
       "      <td>0</td>\n",
       "      <td>30.1</td>\n",
       "      <td>0.349</td>\n",
       "      <td>47</td>\n",
       "      <td>1</td>\n",
       "    </tr>\n",
       "    <tr>\n",
       "      <th>767</th>\n",
       "      <td>1</td>\n",
       "      <td>93</td>\n",
       "      <td>70</td>\n",
       "      <td>31</td>\n",
       "      <td>0</td>\n",
       "      <td>30.4</td>\n",
       "      <td>0.315</td>\n",
       "      <td>23</td>\n",
       "      <td>0</td>\n",
       "    </tr>\n",
       "  </tbody>\n",
       "</table>\n",
       "</div>"
      ],
      "text/plain": [
       "     Pregnancies  Glucose  BloodPressure  SkinThickness  Insulin   BMI  \\\n",
       "763           10      101             76             48      180  32.9   \n",
       "764            2      122             70             27        0  36.8   \n",
       "765            5      121             72             23      112  26.2   \n",
       "766            1      126             60              0        0  30.1   \n",
       "767            1       93             70             31        0  30.4   \n",
       "\n",
       "     DiabetesPedigreeFunction  Age  Outcome  \n",
       "763                     0.171   63        0  \n",
       "764                     0.340   27        0  \n",
       "765                     0.245   30        0  \n",
       "766                     0.349   47        1  \n",
       "767                     0.315   23        0  "
      ]
     },
     "execution_count": 292,
     "metadata": {},
     "output_type": "execute_result"
    }
   ],
   "source": [
    "df.tail()"
   ]
  },
  {
   "cell_type": "code",
   "execution_count": 293,
   "metadata": {},
   "outputs": [
    {
     "data": {
      "text/html": [
       "<div>\n",
       "<style scoped>\n",
       "    .dataframe tbody tr th:only-of-type {\n",
       "        vertical-align: middle;\n",
       "    }\n",
       "\n",
       "    .dataframe tbody tr th {\n",
       "        vertical-align: top;\n",
       "    }\n",
       "\n",
       "    .dataframe thead th {\n",
       "        text-align: right;\n",
       "    }\n",
       "</style>\n",
       "<table border=\"1\" class=\"dataframe\">\n",
       "  <thead>\n",
       "    <tr style=\"text-align: right;\">\n",
       "      <th></th>\n",
       "      <th>Pregnancies</th>\n",
       "      <th>Glucose</th>\n",
       "      <th>BloodPressure</th>\n",
       "      <th>SkinThickness</th>\n",
       "      <th>Insulin</th>\n",
       "      <th>BMI</th>\n",
       "      <th>DiabetesPedigreeFunction</th>\n",
       "      <th>Age</th>\n",
       "      <th>Outcome</th>\n",
       "    </tr>\n",
       "  </thead>\n",
       "  <tbody>\n",
       "    <tr>\n",
       "      <th>count</th>\n",
       "      <td>768.000000</td>\n",
       "      <td>768.000000</td>\n",
       "      <td>768.000000</td>\n",
       "      <td>768.000000</td>\n",
       "      <td>768.000000</td>\n",
       "      <td>768.000000</td>\n",
       "      <td>768.000000</td>\n",
       "      <td>768.000000</td>\n",
       "      <td>768.000000</td>\n",
       "    </tr>\n",
       "    <tr>\n",
       "      <th>mean</th>\n",
       "      <td>3.845052</td>\n",
       "      <td>120.894531</td>\n",
       "      <td>69.105469</td>\n",
       "      <td>20.536458</td>\n",
       "      <td>79.799479</td>\n",
       "      <td>31.992578</td>\n",
       "      <td>0.471876</td>\n",
       "      <td>33.240885</td>\n",
       "      <td>0.348958</td>\n",
       "    </tr>\n",
       "    <tr>\n",
       "      <th>std</th>\n",
       "      <td>3.369578</td>\n",
       "      <td>31.972618</td>\n",
       "      <td>19.355807</td>\n",
       "      <td>15.952218</td>\n",
       "      <td>115.244002</td>\n",
       "      <td>7.884160</td>\n",
       "      <td>0.331329</td>\n",
       "      <td>11.760232</td>\n",
       "      <td>0.476951</td>\n",
       "    </tr>\n",
       "    <tr>\n",
       "      <th>min</th>\n",
       "      <td>0.000000</td>\n",
       "      <td>0.000000</td>\n",
       "      <td>0.000000</td>\n",
       "      <td>0.000000</td>\n",
       "      <td>0.000000</td>\n",
       "      <td>0.000000</td>\n",
       "      <td>0.078000</td>\n",
       "      <td>21.000000</td>\n",
       "      <td>0.000000</td>\n",
       "    </tr>\n",
       "    <tr>\n",
       "      <th>25%</th>\n",
       "      <td>1.000000</td>\n",
       "      <td>99.000000</td>\n",
       "      <td>62.000000</td>\n",
       "      <td>0.000000</td>\n",
       "      <td>0.000000</td>\n",
       "      <td>27.300000</td>\n",
       "      <td>0.243750</td>\n",
       "      <td>24.000000</td>\n",
       "      <td>0.000000</td>\n",
       "    </tr>\n",
       "    <tr>\n",
       "      <th>50%</th>\n",
       "      <td>3.000000</td>\n",
       "      <td>117.000000</td>\n",
       "      <td>72.000000</td>\n",
       "      <td>23.000000</td>\n",
       "      <td>30.500000</td>\n",
       "      <td>32.000000</td>\n",
       "      <td>0.372500</td>\n",
       "      <td>29.000000</td>\n",
       "      <td>0.000000</td>\n",
       "    </tr>\n",
       "    <tr>\n",
       "      <th>75%</th>\n",
       "      <td>6.000000</td>\n",
       "      <td>140.250000</td>\n",
       "      <td>80.000000</td>\n",
       "      <td>32.000000</td>\n",
       "      <td>127.250000</td>\n",
       "      <td>36.600000</td>\n",
       "      <td>0.626250</td>\n",
       "      <td>41.000000</td>\n",
       "      <td>1.000000</td>\n",
       "    </tr>\n",
       "    <tr>\n",
       "      <th>max</th>\n",
       "      <td>17.000000</td>\n",
       "      <td>199.000000</td>\n",
       "      <td>122.000000</td>\n",
       "      <td>99.000000</td>\n",
       "      <td>846.000000</td>\n",
       "      <td>67.100000</td>\n",
       "      <td>2.420000</td>\n",
       "      <td>81.000000</td>\n",
       "      <td>1.000000</td>\n",
       "    </tr>\n",
       "  </tbody>\n",
       "</table>\n",
       "</div>"
      ],
      "text/plain": [
       "       Pregnancies     Glucose  BloodPressure  SkinThickness     Insulin  \\\n",
       "count   768.000000  768.000000     768.000000     768.000000  768.000000   \n",
       "mean      3.845052  120.894531      69.105469      20.536458   79.799479   \n",
       "std       3.369578   31.972618      19.355807      15.952218  115.244002   \n",
       "min       0.000000    0.000000       0.000000       0.000000    0.000000   \n",
       "25%       1.000000   99.000000      62.000000       0.000000    0.000000   \n",
       "50%       3.000000  117.000000      72.000000      23.000000   30.500000   \n",
       "75%       6.000000  140.250000      80.000000      32.000000  127.250000   \n",
       "max      17.000000  199.000000     122.000000      99.000000  846.000000   \n",
       "\n",
       "              BMI  DiabetesPedigreeFunction         Age     Outcome  \n",
       "count  768.000000                768.000000  768.000000  768.000000  \n",
       "mean    31.992578                  0.471876   33.240885    0.348958  \n",
       "std      7.884160                  0.331329   11.760232    0.476951  \n",
       "min      0.000000                  0.078000   21.000000    0.000000  \n",
       "25%     27.300000                  0.243750   24.000000    0.000000  \n",
       "50%     32.000000                  0.372500   29.000000    0.000000  \n",
       "75%     36.600000                  0.626250   41.000000    1.000000  \n",
       "max     67.100000                  2.420000   81.000000    1.000000  "
      ]
     },
     "execution_count": 293,
     "metadata": {},
     "output_type": "execute_result"
    }
   ],
   "source": [
    "df.describe()"
   ]
  },
  {
   "cell_type": "markdown",
   "metadata": {},
   "source": [
    "## **Data Cleaning**"
   ]
  },
  {
   "cell_type": "markdown",
   "metadata": {},
   "source": [
    "Check if the data types are correct:"
   ]
  },
  {
   "cell_type": "code",
   "execution_count": 294,
   "metadata": {},
   "outputs": [
    {
     "name": "stdout",
     "output_type": "stream",
     "text": [
      "Pregnancies                   int64\n",
      "Glucose                       int64\n",
      "BloodPressure                 int64\n",
      "SkinThickness                 int64\n",
      "Insulin                       int64\n",
      "BMI                         float64\n",
      "DiabetesPedigreeFunction    float64\n",
      "Age                           int64\n",
      "Outcome                       int64\n",
      "dtype: object\n"
     ]
    }
   ],
   "source": [
    "data_types = df.dtypes\n",
    "print(data_types)"
   ]
  },
  {
   "cell_type": "markdown",
   "metadata": {},
   "source": [
    "Check for any missing values:"
   ]
  },
  {
   "cell_type": "code",
   "execution_count": 295,
   "metadata": {},
   "outputs": [
    {
     "data": {
      "text/plain": [
       "Pregnancies                 0\n",
       "Glucose                     0\n",
       "BloodPressure               0\n",
       "SkinThickness               0\n",
       "Insulin                     0\n",
       "BMI                         0\n",
       "DiabetesPedigreeFunction    0\n",
       "Age                         0\n",
       "Outcome                     0\n",
       "dtype: int64"
      ]
     },
     "execution_count": 295,
     "metadata": {},
     "output_type": "execute_result"
    }
   ],
   "source": [
    "df.isna().sum()"
   ]
  },
  {
   "cell_type": "markdown",
   "metadata": {},
   "source": [
    "Check for any duplicate rows:"
   ]
  },
  {
   "cell_type": "code",
   "execution_count": 296,
   "metadata": {},
   "outputs": [
    {
     "data": {
      "text/plain": [
       "0      False\n",
       "1      False\n",
       "2      False\n",
       "3      False\n",
       "4      False\n",
       "       ...  \n",
       "763    False\n",
       "764    False\n",
       "765    False\n",
       "766    False\n",
       "767    False\n",
       "Length: 768, dtype: bool"
      ]
     },
     "execution_count": 296,
     "metadata": {},
     "output_type": "execute_result"
    }
   ],
   "source": [
    "df.duplicated(keep=False)"
   ]
  },
  {
   "cell_type": "code",
   "execution_count": 297,
   "metadata": {},
   "outputs": [
    {
     "data": {
      "text/plain": [
       "0"
      ]
     },
     "execution_count": 297,
     "metadata": {},
     "output_type": "execute_result"
    }
   ],
   "source": [
    "df.duplicated().sum()"
   ]
  },
  {
   "cell_type": "markdown",
   "metadata": {},
   "source": [
    "Check if some values are set to a certain default value:"
   ]
  },
  {
   "cell_type": "code",
   "execution_count": 298,
   "metadata": {},
   "outputs": [
    {
     "name": "stdout",
     "output_type": "stream",
     "text": [
      "Index(['Pregnancies', 'Glucose', 'BloodPressure', 'SkinThickness', 'Insulin',\n",
      "       'BMI', 'Outcome'],\n",
      "      dtype='object')\n"
     ]
    }
   ],
   "source": [
    "has_zeros = (df == 0).any()\n",
    "cols = has_zeros[has_zeros].index\n",
    "print(cols)"
   ]
  },
  {
   "cell_type": "markdown",
   "metadata": {},
   "source": [
    "- It makes sense for Pregnancies and Outcome to have 0s, but the rest may have it as an error or missing value as stated in the dataset description."
   ]
  },
  {
   "cell_type": "markdown",
   "metadata": {},
   "source": [
    "- In order for Imputation Techniques, checking the distribution for all the vairables that have 0 as it as an error or missing value."
   ]
  },
  {
   "cell_type": "code",
   "execution_count": 299,
   "metadata": {},
   "outputs": [
    {
     "data": {
      "image/png": "[encoded data removed]",
      "text/plain": [
       "<Figure size 800x600 with 1 Axes>"
      ]
     },
     "metadata": {},
     "output_type": "display_data"
    }
   ],
   "source": [
    "plt.figure(figsize=(8, 6))\n",
    "sns.histplot(df['BMI'], bins=20, kde=True)\n",
    "plt.title('Distribution of BMI')\n",
    "plt.xlabel('BMI')\n",
    "plt.ylabel('Frequency')\n",
    "plt.show()"
   ]
  },
  {
   "cell_type": "code",
   "execution_count": 300,
   "metadata": {},
   "outputs": [
    {
     "data": {
      "image/png": "[encoded data removed]",
      "text/plain": [
       "<Figure size 800x600 with 1 Axes>"
      ]
     },
     "metadata": {},
     "output_type": "display_data"
    }
   ],
   "source": [
    "plt.figure(figsize=(8, 6))\n",
    "sns.histplot(df['Glucose'], bins=20, kde=True)\n",
    "plt.title('Distribution of Glucose')\n",
    "plt.xlabel('Glucose')\n",
    "plt.ylabel('Frequency')\n",
    "plt.show()\n",
    "\n",
    "\n"
   ]
  },
  {
   "cell_type": "code",
   "execution_count": 301,
   "metadata": {},
   "outputs": [
    {
     "name": "stderr",
     "output_type": "stream",
     "text": [
      "C:\\Users\\63945\\AppData\\Roaming\\Python\\Python311\\site-packages\\IPython\\core\\pylabtools.py:152: UserWarning: Glyph 9 (\t) missing from current font.\n",
      "  fig.canvas.print_figure(bytes_io, **kw)\n"
     ]
    },
    {
     "data": {
      "image/png": "[encoded data removed]",
      "text/plain": [
       "<Figure size 800x600 with 1 Axes>"
      ]
     },
     "metadata": {},
     "output_type": "display_data"
    }
   ],
   "source": [
    "plt.figure(figsize=(8, 6))\n",
    "sns.histplot(df['Insulin'], bins=20, kde=True)\n",
    "plt.title('Distribution of Insulin\t')\n",
    "plt.xlabel('Insulin')\n",
    "plt.ylabel('Frequency')\n",
    "plt.show()"
   ]
  },
  {
   "cell_type": "code",
   "execution_count": 302,
   "metadata": {},
   "outputs": [
    {
     "data": {
      "image/png": "[encoded data removed]",
      "text/plain": [
       "<Figure size 800x600 with 1 Axes>"
      ]
     },
     "metadata": {},
     "output_type": "display_data"
    }
   ],
   "source": [
    "plt.figure(figsize=(8, 6))\n",
    "sns.histplot(df['SkinThickness'], bins=20, kde=True)\n",
    "plt.title('Distribution of SkinThickness')\n",
    "plt.xlabel('SkinThickness')\n",
    "plt.ylabel('Frequency')\n",
    "plt.show()"
   ]
  },
  {
   "cell_type": "code",
   "execution_count": 303,
   "metadata": {},
   "outputs": [
    {
     "data": {
      "image/png": "[encoded data removed]",
      "text/plain": [
       "<Figure size 800x600 with 1 Axes>"
      ]
     },
     "metadata": {},
     "output_type": "display_data"
    }
   ],
   "source": [
    "plt.figure(figsize=(8, 6))\n",
    "sns.histplot(df['BloodPressure'], bins=20, kde=True)\n",
    "plt.title('Distribution of BloodPressure')\n",
    "plt.xlabel('BloodPressure')\n",
    "plt.ylabel('Frequency')\n",
    "plt.show()"
   ]
  },
  {
   "cell_type": "markdown",
   "metadata": {},
   "source": [
    "- For Blood Pressure, Glucose the distribution is not Normal distributed, so the values of 0 will be replaced by Median"
   ]
  },
  {
   "cell_type": "markdown",
   "metadata": {},
   "source": [
    "- For Insulin and Skin Thickness, due to the large number of 0 values, which may indicate errors or null values in the data, there is  option to either remove these two columns or impute them using the median considering that their distributions are not normal. Since Insulin is a one of the most important variable of the study,  it's 0 values  imputate it by reaplcing it with the median of the data. \n",
    "\n",
    "\n",
    "\n",
    "\n"
   ]
  },
  {
   "cell_type": "markdown",
   "metadata": {},
   "source": [
    "Replace values of 0 for Median values:"
   ]
  },
  {
   "cell_type": "code",
   "execution_count": 304,
   "metadata": {},
   "outputs": [],
   "source": [
    "median_bmi = df['BMI'].median()\n",
    "df['BMI'] = df['BMI'].replace(0, median_bmi)"
   ]
  },
  {
   "cell_type": "code",
   "execution_count": 305,
   "metadata": {},
   "outputs": [],
   "source": [
    "median_Glucose = df['Glucose'].median()\n",
    "df['Glucose'] = df['Glucose'].replace(0, median_Glucose)"
   ]
  },
  {
   "cell_type": "code",
   "execution_count": 306,
   "metadata": {},
   "outputs": [],
   "source": [
    "median_BloodPressure = df['BloodPressure'].median()\n",
    "df['BloodPressure'] = df['BloodPressure'].replace(0, median_BloodPressure)"
   ]
  },
  {
   "cell_type": "code",
   "execution_count": 307,
   "metadata": {},
   "outputs": [],
   "source": [
    "median_Insulin = df['Insulin'].median()\n",
    "df['Insulin'] = df['Insulin'].replace(0, median_Insulin)"
   ]
  },
  {
   "cell_type": "code",
   "execution_count": 382,
   "metadata": {},
   "outputs": [],
   "source": [
    "#median_SkinThickness = df['SkinThickness'].median()\n",
    "#df['SkinThickness'] = df['SkinThickness'].replace(0, median_SkinThickness)\n",
    "\n",
    "df.drop('SkinThickness', axis=1, inplace=True)\n"
   ]
  },
  {
   "cell_type": "code",
   "execution_count": 383,
   "metadata": {},
   "outputs": [
    {
     "data": {
      "text/html": [
       "<div>\n",
       "<style scoped>\n",
       "    .dataframe tbody tr th:only-of-type {\n",
       "        vertical-align: middle;\n",
       "    }\n",
       "\n",
       "    .dataframe tbody tr th {\n",
       "        vertical-align: top;\n",
       "    }\n",
       "\n",
       "    .dataframe thead th {\n",
       "        text-align: right;\n",
       "    }\n",
       "</style>\n",
       "<table border=\"1\" class=\"dataframe\">\n",
       "  <thead>\n",
       "    <tr style=\"text-align: right;\">\n",
       "      <th></th>\n",
       "      <th>Pregnancies</th>\n",
       "      <th>Glucose</th>\n",
       "      <th>BloodPressure</th>\n",
       "      <th>Insulin</th>\n",
       "      <th>BMI</th>\n",
       "      <th>DiabetesPedigreeFunction</th>\n",
       "      <th>Age</th>\n",
       "      <th>Outcome</th>\n",
       "    </tr>\n",
       "  </thead>\n",
       "  <tbody>\n",
       "    <tr>\n",
       "      <th>count</th>\n",
       "      <td>768.000000</td>\n",
       "      <td>768.000000</td>\n",
       "      <td>768.000000</td>\n",
       "      <td>768.000000</td>\n",
       "      <td>768.000000</td>\n",
       "      <td>768.000000</td>\n",
       "      <td>768.000000</td>\n",
       "      <td>768.000000</td>\n",
       "    </tr>\n",
       "    <tr>\n",
       "      <th>mean</th>\n",
       "      <td>3.845052</td>\n",
       "      <td>121.656250</td>\n",
       "      <td>72.386719</td>\n",
       "      <td>94.652344</td>\n",
       "      <td>32.450911</td>\n",
       "      <td>0.471876</td>\n",
       "      <td>33.240885</td>\n",
       "      <td>0.348958</td>\n",
       "    </tr>\n",
       "    <tr>\n",
       "      <th>std</th>\n",
       "      <td>3.369578</td>\n",
       "      <td>30.438286</td>\n",
       "      <td>12.096642</td>\n",
       "      <td>105.547598</td>\n",
       "      <td>6.875366</td>\n",
       "      <td>0.331329</td>\n",
       "      <td>11.760232</td>\n",
       "      <td>0.476951</td>\n",
       "    </tr>\n",
       "    <tr>\n",
       "      <th>min</th>\n",
       "      <td>0.000000</td>\n",
       "      <td>44.000000</td>\n",
       "      <td>24.000000</td>\n",
       "      <td>14.000000</td>\n",
       "      <td>18.200000</td>\n",
       "      <td>0.078000</td>\n",
       "      <td>21.000000</td>\n",
       "      <td>0.000000</td>\n",
       "    </tr>\n",
       "    <tr>\n",
       "      <th>25%</th>\n",
       "      <td>1.000000</td>\n",
       "      <td>99.750000</td>\n",
       "      <td>64.000000</td>\n",
       "      <td>30.500000</td>\n",
       "      <td>27.500000</td>\n",
       "      <td>0.243750</td>\n",
       "      <td>24.000000</td>\n",
       "      <td>0.000000</td>\n",
       "    </tr>\n",
       "    <tr>\n",
       "      <th>50%</th>\n",
       "      <td>3.000000</td>\n",
       "      <td>117.000000</td>\n",
       "      <td>72.000000</td>\n",
       "      <td>31.250000</td>\n",
       "      <td>32.000000</td>\n",
       "      <td>0.372500</td>\n",
       "      <td>29.000000</td>\n",
       "      <td>0.000000</td>\n",
       "    </tr>\n",
       "    <tr>\n",
       "      <th>75%</th>\n",
       "      <td>6.000000</td>\n",
       "      <td>140.250000</td>\n",
       "      <td>80.000000</td>\n",
       "      <td>127.250000</td>\n",
       "      <td>36.600000</td>\n",
       "      <td>0.626250</td>\n",
       "      <td>41.000000</td>\n",
       "      <td>1.000000</td>\n",
       "    </tr>\n",
       "    <tr>\n",
       "      <th>max</th>\n",
       "      <td>17.000000</td>\n",
       "      <td>199.000000</td>\n",
       "      <td>122.000000</td>\n",
       "      <td>846.000000</td>\n",
       "      <td>67.100000</td>\n",
       "      <td>2.420000</td>\n",
       "      <td>81.000000</td>\n",
       "      <td>1.000000</td>\n",
       "    </tr>\n",
       "  </tbody>\n",
       "</table>\n",
       "</div>"
      ],
      "text/plain": [
       "       Pregnancies     Glucose  BloodPressure     Insulin         BMI  \\\n",
       "count   768.000000  768.000000     768.000000  768.000000  768.000000   \n",
       "mean      3.845052  121.656250      72.386719   94.652344   32.450911   \n",
       "std       3.369578   30.438286      12.096642  105.547598    6.875366   \n",
       "min       0.000000   44.000000      24.000000   14.000000   18.200000   \n",
       "25%       1.000000   99.750000      64.000000   30.500000   27.500000   \n",
       "50%       3.000000  117.000000      72.000000   31.250000   32.000000   \n",
       "75%       6.000000  140.250000      80.000000  127.250000   36.600000   \n",
       "max      17.000000  199.000000     122.000000  846.000000   67.100000   \n",
       "\n",
       "       DiabetesPedigreeFunction         Age     Outcome  \n",
       "count                768.000000  768.000000  768.000000  \n",
       "mean                   0.471876   33.240885    0.348958  \n",
       "std                    0.331329   11.760232    0.476951  \n",
       "min                    0.078000   21.000000    0.000000  \n",
       "25%                    0.243750   24.000000    0.000000  \n",
       "50%                    0.372500   29.000000    0.000000  \n",
       "75%                    0.626250   41.000000    1.000000  \n",
       "max                    2.420000   81.000000    1.000000  "
      ]
     },
     "execution_count": 383,
     "metadata": {},
     "output_type": "execute_result"
    }
   ],
   "source": [
    "df.describe()"
   ]
  },
  {
   "cell_type": "markdown",
   "metadata": {},
   "source": [
    "## **Exploratory Data Analysis (EDA)**\n",
    "\n",
    "- Identify at least 4 exploratory data analysis questions. Properly state the questions in the notebook. Having more than 4 questions is acceptable, especially if this will help in understanding the data better.\n",
    "- Answer the EDA questions using both:\n",
    "    - Numerical Summaries – measures of central tendency, measures of dispersion, and correlation\n",
    "    - Visualization – Appropriate visualization should be used. Each visualization should be accompanied by a brief explanation."
   ]
  },
  {
   "cell_type": "markdown",
   "metadata": {},
   "source": [
    "###   Is there a relationship between Glucose and the Diabetes Outcome?"
   ]
  },
  {
   "cell_type": "markdown",
   "metadata": {},
   "source": [
    "Measures of central tendency"
   ]
  },
  {
   "cell_type": "code",
   "execution_count": 342,
   "metadata": {},
   "outputs": [
    {
     "name": "stdout",
     "output_type": "stream",
     "text": [
      "Mean Glucose Level (Outcome 1)- 142.13059701492537\n",
      "Median Glucose Level (Outcome 1)- 140.0\n"
     ]
    }
   ],
   "source": [
    "glucose_mean_outcome_1 = df[df['Outcome'] == 1]['Glucose'].mean()\n",
    "glucose_median_outcome_1 = df[df['Outcome'] == 1]['Glucose'].median()\n",
    "\n",
    "\n",
    "print('Mean Glucose Level (Outcome 1)-',glucose_mean_outcome_1)\n",
    "print('Median Glucose Level (Outcome 1)-',glucose_median_outcome_1)\n",
    "\n"
   ]
  },
  {
   "cell_type": "code",
   "execution_count": 341,
   "metadata": {},
   "outputs": [
    {
     "name": "stdout",
     "output_type": "stream",
     "text": [
      "Mean Glucose Level (Outcome 0)- 110.682\n",
      "Median Glucose Level (Outcome 0)- 107.5\n"
     ]
    }
   ],
   "source": [
    "glucose_mean_outcome_0 = df[df['Outcome'] == 0]['Glucose'].mean()\n",
    "glucose_median_outcome_0 = df[df['Outcome'] == 0]['Glucose'].median()\n",
    "\n",
    "\n",
    "\n",
    "print('Mean Glucose Level (Outcome 0)-',glucose_mean_outcome_0)\n",
    "print('Median Glucose Level (Outcome 0)-',glucose_median_outcome_0)\n",
    "\n",
    "\n"
   ]
  },
  {
   "cell_type": "markdown",
   "metadata": {},
   "source": [
    "- EXPLANATION"
   ]
  },
  {
   "cell_type": "markdown",
   "metadata": {},
   "source": [
    "Measures of dispersion"
   ]
  },
  {
   "cell_type": "code",
   "execution_count": 339,
   "metadata": {},
   "outputs": [
    {
     "name": "stdout",
     "output_type": "stream",
     "text": [
      "The Standard deviation of Glucose for Outcome 1 - 29.568838561472912\n",
      "The Variance of Glucose  for Outcome 1 - 874.3162138744474\n",
      "The Range of Glucose  for Outcome 1 - 121\n",
      "The IQR of Glucose for Outcome 1 - 48.0\n"
     ]
    }
   ],
   "source": [
    "glucose_std_outcome_1 = df[df['Outcome'] == 1]['Glucose'].std()\n",
    "glucose_variance_outcome_1 = df[df['Outcome'] == 1]['Glucose'].var()\n",
    "glucose_range_outcome_1 = df[df['Outcome'] == 1]['Glucose'].max() - df[df['Outcome'] == 1]['Glucose'].min()\n",
    "glucose_iqr_outcome_1 = df[df['Outcome'] == 1]['Glucose'].quantile(0.75) - df[df['Outcome'] == 1]['Glucose'].quantile(0.25)\n",
    "\n",
    "print('The Standard deviation of Glucose for Outcome 1 -',glucose_std_outcome_1)\n",
    "print('The Variance of Glucose  for Outcome 1 -',glucose_variance_outcome_1)\n",
    "print('The Range of Glucose  for Outcome 1 -',glucose_range_outcome_1)\n",
    "print('The IQR of Glucose for Outcome 1 -',glucose_iqr_outcome_1)\n",
    "\n",
    "\n"
   ]
  },
  {
   "cell_type": "code",
   "execution_count": 343,
   "metadata": {},
   "outputs": [
    {
     "name": "stdout",
     "output_type": "stream",
     "text": [
      "The Standard deviation  of Glucose for Outcome 0 - 24.70720072236169\n",
      "The Variance of Glucose  for Outcome 0 - 610.44576753507\n",
      "The Range for Glucose Outcome 0 - 153\n",
      "The IQR of Glucose for Outcome 0 - 32.0\n"
     ]
    }
   ],
   "source": [
    "glucose_std_outcome_0 = df[df['Outcome'] == 0]['Glucose'].std()\n",
    "glucose_variance_outcome_0 = df[df['Outcome'] == 0]['Glucose'].var()\n",
    "glucose_range_outcome_0 = df[df['Outcome'] == 0]['Glucose'].max() - df[df['Outcome'] == 0]['Glucose'].min()\n",
    "glucose_iqr_outcome_0 = df[df['Outcome'] == 0]['Glucose'].quantile(0.75) - df[df['Outcome'] == 0]['Glucose'].quantile(0.25)\n",
    "\n",
    "print('The Standard deviation  of Glucose for Outcome 0 -',glucose_std_outcome_0)\n",
    "print('The Variance of Glucose  for Outcome 0 -',glucose_variance_outcome_0)\n",
    "print('The Range for Glucose Outcome 0 -',glucose_range_outcome_0)\n",
    "print('The IQR of Glucose for Outcome 0 -',glucose_iqr_outcome_0)"
   ]
  },
  {
   "cell_type": "markdown",
   "metadata": {},
   "source": [
    "- EXPLANATION"
   ]
  },
  {
   "cell_type": "markdown",
   "metadata": {},
   "source": [
    "- VISUALISATION"
   ]
  },
  {
   "cell_type": "code",
   "execution_count": 315,
   "metadata": {},
   "outputs": [
    {
     "data": {
      "image/png": "[encoded data removed]",
      "text/plain": [
       "<Figure size 640x480 with 1 Axes>"
      ]
     },
     "metadata": {},
     "output_type": "display_data"
    }
   ],
   "source": [
    "\n",
    "plt.hist(df[df['Outcome'] == 1]['Glucose'], alpha=0.5, label='Outcome 1', bins=20)\n",
    "plt.hist(df[df['Outcome'] == 0]['Glucose'], alpha=0.5, label='Outcome 0', bins=20)\n",
    "plt.xlabel('Glucose Level')\n",
    "plt.ylabel('Frequency')\n",
    "plt.legend()\n",
    "plt.show()"
   ]
  },
  {
   "cell_type": "markdown",
   "metadata": {},
   "source": [
    "### BMI RELATIONSHIP WITH DIABETES "
   ]
  },
  {
   "cell_type": "markdown",
   "metadata": {},
   "source": [
    "- Measures of central tendency"
   ]
  },
  {
   "cell_type": "code",
   "execution_count": 345,
   "metadata": {},
   "outputs": [
    {
     "name": "stdout",
     "output_type": "stream",
     "text": [
      "BMI Median(Outcome 1) 34.25\n",
      "BMI Mean(Outcome 1) 34.25\n"
     ]
    }
   ],
   "source": [
    "mean_bmi_outcome_1 = df[df['Outcome'] == 1]['BMI'].median()\n",
    "median_bmi_outcome_1 = df[df['Outcome'] == 1]['BMI'].median()\n",
    "\n",
    "\n",
    "print('BMI Median(Outcome 1)',median_bmi_outcome_1)\n",
    "print('BMI Mean(Outcome 1)',mean_bmi_outcome_1)\n",
    "\n"
   ]
  },
  {
   "cell_type": "code",
   "execution_count": 346,
   "metadata": {},
   "outputs": [
    {
     "name": "stdout",
     "output_type": "stream",
     "text": [
      "BMI Mean(Outcome 0) 30.880200000000002\n",
      "BMI Median(Outcome 0) 30.4\n"
     ]
    }
   ],
   "source": [
    "mean_bmi_outcome_0 = df[df['Outcome'] == 0]['BMI'].mean()\n",
    "median_bmi_outcome_0 = df[df['Outcome'] == 0]['BMI'].median()\n",
    "\n",
    "print('BMI Mean(Outcome 0)',mean_bmi_outcome_0)\n",
    "print('BMI Median(Outcome 0)',median_bmi_outcome_0)"
   ]
  },
  {
   "cell_type": "markdown",
   "metadata": {},
   "source": [
    "- EXPLANATION"
   ]
  },
  {
   "cell_type": "markdown",
   "metadata": {},
   "source": [
    "- Measures of dispersion"
   ]
  },
  {
   "cell_type": "code",
   "execution_count": 348,
   "metadata": {},
   "outputs": [
    {
     "name": "stdout",
     "output_type": "stream",
     "text": [
      "The Standard deviation of BMI for Outcome 1 - 6.596704067628949\n",
      "The Variance of BMI  for Outcome 1 - 43.51650455587232\n",
      "The Range of BMI  for Outcome 1 - 44.199999999999996\n",
      "The IQR of BMIfor Outcome 1 - 7.875000000000007\n"
     ]
    }
   ],
   "source": [
    "BMI_std_outcome_1 = df[df['Outcome'] == 1]['BMI'].std()\n",
    "BMI_variance_outcome_1 = df[df['Outcome'] == 1]['BMI'].var()\n",
    "BMI_range_outcome_1 = df[df['Outcome'] == 1]['BMI'].max() - df[df['Outcome'] == 1]['BMI'].min()\n",
    "BMI_iqr_outcome_1 = df[df['Outcome'] == 1]['BMI'].quantile(0.75) - df[df['Outcome'] == 1]['BMI'].quantile(0.25)\n",
    "\n",
    "print('The Standard deviation of BMI for Outcome 1 -',BMI_std_outcome_1)\n",
    "print('The Variance of BMI  for Outcome 1 -',BMI_variance_outcome_1)\n",
    "print('The Range of BMI  for Outcome 1 -',BMI_range_outcome_1)\n",
    "print('The IQR of BMIfor Outcome 1 -',BMI_iqr_outcome_1)"
   ]
  },
  {
   "cell_type": "code",
   "execution_count": 349,
   "metadata": {},
   "outputs": [
    {
     "name": "stdout",
     "output_type": "stream",
     "text": [
      "The Standard deviation of BMI for Outcome 0 - 6.503073726768871\n",
      "The Variance of BMI  for Outcome 0 - 42.28996789579158\n",
      "The Range of BMI  for Outcome 0 - 39.099999999999994\n",
      "The IQR of BMIfor Outcome 0 - 9.549999999999997\n"
     ]
    }
   ],
   "source": [
    "BMI_std_outcome_0 = df[df['Outcome'] == 0]['BMI'].std()\n",
    "BMI_variance_outcome_0 = df[df['Outcome'] == 0]['BMI'].var()\n",
    "BMI_range_outcome_0 = df[df['Outcome'] == 0]['BMI'].max() - df[df['Outcome'] == 0]['BMI'].min()\n",
    "BMI_iqr_outcome_0 = df[df['Outcome'] == 0]['BMI'].quantile(0.75) - df[df['Outcome'] == 0]['BMI'].quantile(0.25)\n",
    "\n",
    "print('The Standard deviation of BMI for Outcome 0 -',BMI_std_outcome_0)\n",
    "print('The Variance of BMI  for Outcome 0 -',BMI_variance_outcome_0)\n",
    "print('The Range of BMI  for Outcome 0 -',BMI_range_outcome_0)\n",
    "print('The IQR of BMIfor Outcome 0 -',BMI_iqr_outcome_0)"
   ]
  },
  {
   "cell_type": "markdown",
   "metadata": {},
   "source": [
    "- EXPANATION"
   ]
  },
  {
   "cell_type": "code",
   "execution_count": 317,
   "metadata": {},
   "outputs": [
    {
     "data": {
      "image/png": "[encoded data removed]",
      "text/plain": [
       "<Figure size 900x600 with 1 Axes>"
      ]
     },
     "metadata": {},
     "output_type": "display_data"
    }
   ],
   "source": [
    "plt.figure(figsize=(9, 6))\n",
    "sns.boxplot(x='Outcome', y='BMI', data=df)\n",
    "plt.ylabel('BMI')\n",
    "plt.xticks([0, 1], ['Outcome 0', 'Outcome 1'])\n",
    "plt.show()"
   ]
  },
  {
   "cell_type": "markdown",
   "metadata": {},
   "source": [
    "### How does the diabetes pedigree function vary among individuals with diabetes outcome  and is there a correlation between this function and age?"
   ]
  },
  {
   "cell_type": "markdown",
   "metadata": {},
   "source": [
    "- Measure of Central Tendency"
   ]
  },
  {
   "cell_type": "code",
   "execution_count": 351,
   "metadata": {},
   "outputs": [
    {
     "name": "stdout",
     "output_type": "stream",
     "text": [
      "Mean of Pedigree Function (Outcome 1) - 0.5505\n",
      "Mean of Pedigree Function (Outcome 1) - 0.449\n"
     ]
    }
   ],
   "source": [
    "mean_pedigree_function_outcome_1 = df[df['Outcome'] == 1]['DiabetesPedigreeFunction'].mean()\n",
    "median_pedigree_function_outcome_1 = df[df['Outcome'] == 1]['DiabetesPedigreeFunction'].median()\n",
    "\n",
    "print('Mean of Pedigree Function (Outcome 1) -',mean_pedigree_function_outcome_1)\n",
    "print('Mean of Pedigree Function (Outcome 1) -', median_pedigree_function_outcome_1)\n",
    "\n",
    "# correlation_age_pedigree_function_outcome_1 = df[df['Outcome'] == 1]['Age'].corr(df[df['Outcome'] == 1]['DiabetesPedigreeFunction'])\n",
    "# print(correlation_age_pedigree_function_outcome_1)"
   ]
  },
  {
   "cell_type": "code",
   "execution_count": 352,
   "metadata": {},
   "outputs": [
    {
     "name": "stdout",
     "output_type": "stream",
     "text": [
      "Mean of Pedigree Function (Outcome 0) - 0.5505\n",
      "Mean of Pedigree Function (Outcome 0) - 0.449\n"
     ]
    }
   ],
   "source": [
    "mean_pedigree_function_outcome_0 = df[df['Outcome'] == 0]['DiabetesPedigreeFunction'].mean()\n",
    "median_pedigree_function_outcome_0 = df[df['Outcome'] == 0]['DiabetesPedigreeFunction'].median()\n",
    "\n",
    "print('Mean of Pedigree Function (Outcome 0) -',mean_pedigree_function_outcome_1)\n",
    "print('Mean of Pedigree Function (Outcome 0) -', median_pedigree_function_outcome_1)"
   ]
  },
  {
   "cell_type": "markdown",
   "metadata": {},
   "source": [
    "- EXPANATION"
   ]
  },
  {
   "cell_type": "markdown",
   "metadata": {},
   "source": [
    "- Measures of dispersion"
   ]
  },
  {
   "cell_type": "code",
   "execution_count": 363,
   "metadata": {},
   "outputs": [
    {
     "name": "stdout",
     "output_type": "stream",
     "text": [
      "The Standard deviation of DiabetesPedigreeFunction (Outcome 1) - 0.372354483554611\n",
      "The Variance of DiabetesPedigreeFunction (Outcome 1)           - 0.13864786142322105\n",
      "The Range of DiabetesPedigreeFunction  (Outcome 1)             - 2.332\n",
      "The IQR of DiabetesPedigreeFunction (Outcome 1)                - 0.46549999999999997\n"
     ]
    }
   ],
   "source": [
    "pedigree_function_std_outcome_1 = df[df['Outcome'] == 1]['DiabetesPedigreeFunction'].std()\n",
    "pedigree_function_variance_outcome_1 = df[df['Outcome'] == 1]['DiabetesPedigreeFunction'].var()\n",
    "pedigree_function_range_outcome_1 = df[df['Outcome'] == 1]['DiabetesPedigreeFunction'].max() - df[df['Outcome'] == 1]['DiabetesPedigreeFunction'].min()\n",
    "pedigree_function_iqr_outcome_1 = df[df['Outcome'] == 1]['DiabetesPedigreeFunction'].quantile(0.75) - df[df['Outcome'] == 1]['DiabetesPedigreeFunction'].quantile(0.25)\n",
    "\n",
    "print('The Standard deviation of DiabetesPedigreeFunction (Outcome 1) -',pedigree_function_std_outcome_1)\n",
    "print('The Variance of DiabetesPedigreeFunction (Outcome 1)           -',pedigree_function_variance_outcome_1)\n",
    "print('The Range of DiabetesPedigreeFunction  (Outcome 1)             -',pedigree_function_range_outcome_1)\n",
    "print('The IQR of DiabetesPedigreeFunction (Outcome 1)                -',pedigree_function_iqr_outcome_1)"
   ]
  },
  {
   "cell_type": "code",
   "execution_count": 362,
   "metadata": {},
   "outputs": [
    {
     "name": "stdout",
     "output_type": "stream",
     "text": [
      "The Standard deviation of DiabetesPedigreeFunction (Outcome 0) -  0.29908530435741093\n",
      "The Variance of DiabetesPedigreeFunction (Outcome 0)           -  0.08945201928256515\n",
      "The Range of DiabetesPedigreeFunction (Outcome 0)              -  2.2510000000000003\n",
      "The IQR of DiabetesPedigreeFunction (Outcome 0)                -  0.33199999999999996\n"
     ]
    }
   ],
   "source": [
    "pedigree_function_std_outcome_0 = df[df['Outcome'] == 0]['DiabetesPedigreeFunction'].std()\n",
    "pedigree_function_variance_outcome_0 = df[df['Outcome'] == 0]['DiabetesPedigreeFunction'].var()\n",
    "pedigree_function_range_outcome_0 = df[df['Outcome'] == 0]['DiabetesPedigreeFunction'].max() - df[df['Outcome'] == 0]['DiabetesPedigreeFunction'].min()\n",
    "pedigree_function_iqr_outcome_0 = df[df['Outcome'] == 0]['DiabetesPedigreeFunction'].quantile(0.75) - df[df['Outcome'] == 0]['DiabetesPedigreeFunction'].quantile(0.25)\n",
    "\n",
    "print('The Standard deviation of DiabetesPedigreeFunction (Outcome 0) - ',pedigree_function_std_outcome_0)\n",
    "print('The Variance of DiabetesPedigreeFunction (Outcome 0)           - ',         pedigree_function_variance_outcome_0)\n",
    "print('The Range of DiabetesPedigreeFunction (Outcome 0)              - ',            pedigree_function_range_outcome_0)\n",
    "print('The IQR of DiabetesPedigreeFunction (Outcome 0)                - ',               pedigree_function_iqr_outcome_0)"
   ]
  },
  {
   "cell_type": "markdown",
   "metadata": {},
   "source": [
    "- EXPLANATION -"
   ]
  },
  {
   "cell_type": "code",
   "execution_count": 319,
   "metadata": {},
   "outputs": [
    {
     "data": {
      "image/png": "[encoded data removed]",
      "text/plain": [
       "<Figure size 1000x600 with 1 Axes>"
      ]
     },
     "metadata": {},
     "output_type": "display_data"
    }
   ],
   "source": [
    "plt.figure(figsize=(10, 6))\n",
    "sns.scatterplot(x='Age', y='DiabetesPedigreeFunction', data=df[df['Outcome'] == 1])\n",
    "plt.title('Scatterplot of Age vs. Diabetes Pedigree Function (Outcome 1)')\n",
    "plt.show()\n",
    "\n"
   ]
  },
  {
   "cell_type": "markdown",
   "metadata": {},
   "source": [
    "### RELATIONSHIP B/W PREGNANCIES AND DIABETES"
   ]
  },
  {
   "cell_type": "markdown",
   "metadata": {},
   "source": [
    "- Measures of Central Tendency"
   ]
  },
  {
   "cell_type": "code",
   "execution_count": 373,
   "metadata": {},
   "outputs": [
    {
     "name": "stdout",
     "output_type": "stream",
     "text": [
      "Mean of Pregnancies  (Outcome 1)   - 4.865671641791045\n",
      "Median of Pregnancies   (Outcome 1) - 4.0\n"
     ]
    }
   ],
   "source": [
    "mean_pregnancies_outcome_1 = df[df['Outcome'] == 1]['Pregnancies'].mean()\n",
    "median_pregnancies_outcome_1 = df[df['Outcome'] == 1]['Pregnancies'].median()\n",
    "\n",
    "\n",
    "\n",
    "print('Mean of Pregnancies  (Outcome 1)   -',   mean_pregnancies_outcome_1)\n",
    "print('Median of Pregnancies   (Outcome 1) -', median_pregnancies_outcome_1 )\n",
    "\n"
   ]
  },
  {
   "cell_type": "code",
   "execution_count": 374,
   "metadata": {},
   "outputs": [
    {
     "name": "stdout",
     "output_type": "stream",
     "text": [
      "Mean of Pregnancies (Outcome 0)   - 3.298\n",
      "Median of Pregnancies (Outcome 0) - 2.0\n"
     ]
    }
   ],
   "source": [
    "mean_pregnancies_outcome_0 = df[df['Outcome'] == 0]['Pregnancies'].mean()\n",
    "median_pregnancies_outcome_0 = df[df['Outcome'] == 0]['Pregnancies'].median()\n",
    "\n",
    "\n",
    "\n",
    "print('Mean of Pregnancies (Outcome 0)   -',   mean_pregnancies_outcome_0)\n",
    "print('Median of Pregnancies (Outcome 0) -', median_pregnancies_outcome_0)"
   ]
  },
  {
   "cell_type": "markdown",
   "metadata": {},
   "source": [
    "- EXPLANATION -"
   ]
  },
  {
   "cell_type": "markdown",
   "metadata": {},
   "source": [
    "- Measures of dispersion"
   ]
  },
  {
   "cell_type": "code",
   "execution_count": 376,
   "metadata": {},
   "outputs": [
    {
     "name": "stdout",
     "output_type": "stream",
     "text": [
      "The Standard deviation of Pregnancies (Outcome 1) - 3.741239044041554\n",
      "The Variance of Pregnancies (Outcome 1)           - 13.996869584660963\n",
      "The Range of Pregnancies (Outcome 1)              - 17\n",
      "The IQR of Pregnancies (Outcome 1)                - 6.25\n"
     ]
    }
   ],
   "source": [
    "pregnancies_function_std_outcome_1 = df[df['Outcome'] == 1]['Pregnancies'].std()\n",
    "pregnancies_function_variance_outcome_1 = df[df['Outcome'] == 1]['Pregnancies'].var()\n",
    "pregnancies_function_range_outcome_1 = df[df['Outcome'] == 1]['Pregnancies'].max() - df[df['Outcome'] == 1]['Pregnancies'].min()\n",
    "pregnancies_function_iqr_outcome_1 = df[df['Outcome'] == 1]['Pregnancies'].quantile(0.75) - df[df['Outcome'] == 1]['Pregnancies'].quantile(0.25)\n",
    "\n",
    "print('The Standard deviation of Pregnancies (Outcome 1) -',pregnancies_function_std_outcome_1)\n",
    "print('The Variance of Pregnancies (Outcome 1)           -',pregnancies_function_variance_outcome_1)\n",
    "print('The Range of Pregnancies (Outcome 1)              -', pregnancies_function_range_outcome_1)\n",
    "print('The IQR of Pregnancies (Outcome 1)                -',pregnancies_function_iqr_outcome_1)"
   ]
  },
  {
   "cell_type": "code",
   "execution_count": 378,
   "metadata": {},
   "outputs": [
    {
     "name": "stdout",
     "output_type": "stream",
     "text": [
      "The Standard deviation of Pregnancies (Outcome 1) - 3.01718458262189\n",
      "The Variance of Pregnancies (Outcome 1)           - 9.103402805611228\n",
      "The Range of Pregnancies (Outcome 1)              - 13\n",
      "The IQR of Pregnancies (Outcome 1)                - 4.0\n"
     ]
    }
   ],
   "source": [
    "pregnancies_function_std_outcome_0 = df[df['Outcome'] == 0]['Pregnancies'].std()\n",
    "pregnancies_function_variance_outcome_0 = df[df['Outcome'] == 0]['Pregnancies'].var()\n",
    "pregnancies_function_range_outcome_0 = df[df['Outcome'] == 0]['Pregnancies'].max() - df[df['Outcome'] == 0]['Pregnancies'].min()\n",
    "pregnancies_function_iqr_outcome_0 = df[df['Outcome'] == 0]['Pregnancies'].quantile(0.75) - df[df['Outcome'] == 0]['Pregnancies'].quantile(0.25)\n",
    "\n",
    "print('The Standard deviation of Pregnancies (Outcome 1) -',pregnancies_function_std_outcome_0)\n",
    "print('The Variance of Pregnancies (Outcome 1)           -',pregnancies_function_variance_outcome_0 )\n",
    "print('The Range of Pregnancies (Outcome 1)              -',pregnancies_function_range_outcome_0 )\n",
    "print('The IQR of Pregnancies (Outcome 1)                -',pregnancies_function_iqr_outcome_0)"
   ]
  },
  {
   "cell_type": "markdown",
   "metadata": {},
   "source": [
    "- EXPLANATION -"
   ]
  },
  {
   "cell_type": "code",
   "execution_count": 364,
   "metadata": {},
   "outputs": [
    {
     "data": {
      "image/png": "[encoded data removed]",
      "text/plain": [
       "<Figure size 640x480 with 1 Axes>"
      ]
     },
     "metadata": {},
     "output_type": "display_data"
    }
   ],
   "source": [
    "# Visualization\n",
    "sns.barplot(x='Outcome', y='Pregnancies', data=df, errorbar=None)\n",
    "plt.ylabel('Average Number of Pregnancies')\n",
    "plt.xticks([0, 1], ['Outcome 0', 'Outcome 1'])\n",
    "plt.show()\n"
   ]
  }
 ],
 "metadata": {
  "kernelspec": {
   "display_name": "Python 3 (ipykernel)",
   "language": "python",
   "name": "python3"
  },
  "language_info": {
   "codemirror_mode": {
    "name": "ipython",
    "version": 3
   },
   "file_extension": ".py",
   "mimetype": "text/x-python",
   "name": "python",
   "nbconvert_exporter": "python",
   "pygments_lexer": "ipython3",
   "version": "3.11.5"
  }
 },
 "nbformat": 4,
 "nbformat_minor": 2
}
